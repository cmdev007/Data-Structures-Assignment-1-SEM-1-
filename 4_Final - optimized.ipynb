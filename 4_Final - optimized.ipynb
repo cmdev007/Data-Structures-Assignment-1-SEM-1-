{
 "cells": [
  {
   "cell_type": "code",
   "execution_count": 1,
   "metadata": {},
   "outputs": [],
   "source": [
    "import itertools\n",
    "import random\n",
    "from copy import deepcopy"
   ]
  },
  {
   "cell_type": "code",
   "execution_count": 2,
   "metadata": {},
   "outputs": [],
   "source": [
    "def all_combo(lst):\n",
    "    all_combo=[]\n",
    "    for i in range(2, len(lst)+1):\n",
    "        for j in itertools.permutations(lst,i):\n",
    "            all_combo.append(j)\n",
    "    return all_combo"
   ]
  },
  {
   "cell_type": "code",
   "execution_count": 3,
   "metadata": {},
   "outputs": [],
   "source": [
    "def two_combo(lst,val):\n",
    "    ans=\"\"\n",
    "    flag=True\n",
    "    for j in ops:\n",
    "        if flag:\n",
    "            if eval(str(lst[0])+j+str(lst[1]))==target:\n",
    "                ans=ans+\"The expression is: \"+str(i[0])+j+str(i[1])\n",
    "                flag=False\n",
    "        else:\n",
    "            break\n",
    "    return ans,flag"
   ]
  },
  {
   "cell_type": "code",
   "execution_count": 4,
   "metadata": {},
   "outputs": [],
   "source": [
    "def three_combo(lst,val):\n",
    "    ans=\"\"\n",
    "    flag=True\n",
    "    for j in ops:\n",
    "        if flag:\n",
    "            for k in ops:\n",
    "                if flag:\n",
    "                    if eval(str(lst[0])+j+str(lst[1])+k+str(lst[2]))==target:\n",
    "                        ans=ans+\"The expression is: \"+str(lst[0])+j+str(lst[1])+k+str(lst[2])\n",
    "                        flag=False\n",
    "                else: \n",
    "                    break\n",
    "        else:\n",
    "            break\n",
    "    return ans,flag"
   ]
  },
  {
   "cell_type": "code",
   "execution_count": 5,
   "metadata": {},
   "outputs": [],
   "source": [
    "def four_combo(lst,val):\n",
    "    ans=\"\"\n",
    "    flag=True\n",
    "    for j in ops:\n",
    "        if flag:\n",
    "            for k in ops:\n",
    "                if flag:\n",
    "                    for l in ops:\n",
    "                        if flag:\n",
    "                            if eval(str(lst[0])+j+str(lst[1])+k+str(lst[2])+l+str(lst[3]))==target:\n",
    "                                ans=ans+\"The expression is: \"+str(lst[0])+j+str(lst[1])+k+str(lst[2])+l+str(lst[3])\n",
    "                                flag=False\n",
    "                        else:\n",
    "                            break\n",
    "                else:\n",
    "                    break\n",
    "        else:\n",
    "            break\n",
    "    return ans,flag"
   ]
  },
  {
   "cell_type": "code",
   "execution_count": 6,
   "metadata": {},
   "outputs": [],
   "source": [
    "def five_combo(lst,val):\n",
    "    ans=\"\"\n",
    "    flag=True\n",
    "    for j in ops:\n",
    "        if flag:\n",
    "            for k in ops:\n",
    "                if flag:\n",
    "                    for l in ops:\n",
    "                        if flag:\n",
    "                            for m in ops:\n",
    "                                if flag:\n",
    "                                    if eval(str(lst[0])+j+str(lst[1])+k+str(lst[2])+l+str(lst[3])+m+str(lst[4]))==target:\n",
    "                                        ans=ans+\"The expression is: \"+str(lst[0])+j+str(lst[1])+k+str(lst[2])+l+str(lst[3])+m+str(lst[4])\n",
    "                                        flag=False\n",
    "                                else:\n",
    "                                    break\n",
    "                        else:\n",
    "                            break\n",
    "                else:\n",
    "                    break\n",
    "        else:\n",
    "            break\n",
    "    return ans,flag"
   ]
  },
  {
   "cell_type": "code",
   "execution_count": 7,
   "metadata": {},
   "outputs": [],
   "source": [
    "def six_combo(lst,val):\n",
    "    ans=\"\"\n",
    "    flag=True\n",
    "    for j in ops:\n",
    "        if flag:\n",
    "            for k in ops:\n",
    "                if flag:\n",
    "                    for l in ops:\n",
    "                        if flag:\n",
    "                            for m in ops:\n",
    "                                if flag:\n",
    "                                    for n in ops:\n",
    "                                        if flag:\n",
    "                                            if eval(str(lst[0])+j+str(lst[1])+k+str(lst[2])+l+str(lst[3])+m+str(lst[4])+n+str(lst[5]))==target:\n",
    "                                                ans=ans+\"The expression is: \"+str(lst[0])+j+str(lst[1])+k+str(lst[2])+l+str(lst[3])+m+str(lst[4])+n+str(lst[5])\n",
    "                                                flag=False\n",
    "                                        else:\n",
    "                                            break\n",
    "                                else:\n",
    "                                    break\n",
    "                        else:\n",
    "                            break\n",
    "                else:\n",
    "                    break\n",
    "        else:\n",
    "            break\n",
    "    return ans,flag"
   ]
  },
  {
   "cell_type": "code",
   "execution_count": 8,
   "metadata": {},
   "outputs": [],
   "source": [
    "def solution(lst1,val):\n",
    "    lst=deepcopy(lst1)\n",
    "    combo=all_combo(lst)\n",
    "    globalflag=True\n",
    "    while(1):\n",
    "        if (not globalflag) or len(combo)==0:\n",
    "            break\n",
    "        else:\n",
    "            choice=random.choice(combo)\n",
    "            if len(choice)==2:\n",
    "                answer,globalflag=two_combo(choice,val)\n",
    "            elif len(choice)==3:\n",
    "                answer,globalflag=three_combo(choice,val)\n",
    "            elif len(choice)==4:\n",
    "                answer,globalflag=four_combo(choice,val)\n",
    "            elif len(choice)==5:\n",
    "                answer,globalflag=five_combo(choice,val)\n",
    "            else:\n",
    "                answer,globalflag=six_combo(choice,val)\n",
    "            combo.remove(choice)\n",
    "    if globalflag:\n",
    "        return \"No arithmetic expression possible for given target value!\"\n",
    "    else:\n",
    "        return answer\n",
    "        "
   ]
  },
  {
   "cell_type": "code",
   "execution_count": 18,
   "metadata": {},
   "outputs": [],
   "source": [
    "que=[55,46,16,77,88,90]\n",
    "target=12\n",
    "ops = ['+', '-', '*', '/']"
   ]
  },
  {
   "cell_type": "code",
   "execution_count": 38,
   "metadata": {},
   "outputs": [
    {
     "name": "stdout",
     "output_type": "stream",
     "text": [
      "The expression is: 55-46-90+77+16=12 (calculated according to BODMAS rule)\n"
     ]
    }
   ],
   "source": [
    "answer=solution(que,target)\n",
    "print(answer+\"=\"+str(target)+\" (calculated according to BODMAS rule)\")"
   ]
  }
 ],
 "metadata": {
  "kernelspec": {
   "display_name": "Python 3",
   "language": "python",
   "name": "python3"
  },
  "language_info": {
   "codemirror_mode": {
    "name": "ipython",
    "version": 3
   },
   "file_extension": ".py",
   "mimetype": "text/x-python",
   "name": "python",
   "nbconvert_exporter": "python",
   "pygments_lexer": "ipython3",
   "version": "3.6.11"
  }
 },
 "nbformat": 4,
 "nbformat_minor": 4
}
