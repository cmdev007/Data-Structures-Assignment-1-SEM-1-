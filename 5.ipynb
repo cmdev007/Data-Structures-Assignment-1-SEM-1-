{
 "cells": [
  {
   "cell_type": "code",
   "execution_count": 110,
   "metadata": {},
   "outputs": [],
   "source": [
    "import pandas as pd\n",
    "import numpy as np\n",
    "from english_words import english_words_set as dict_list"
   ]
  },
  {
   "cell_type": "code",
   "execution_count": 111,
   "metadata": {},
   "outputs": [],
   "source": [
    "dict_list=dict_list.union({'I','was','were','is','am','has','preet','farzan','bat','blink','dhruti','eating'})"
   ]
  },
  {
   "cell_type": "code",
   "execution_count": 112,
   "metadata": {},
   "outputs": [],
   "source": [
    "alphabets=['a', 'b', 'c', 'd', 'e', 'f', 'g', 'h', 'i', 'j', 'k', 'l', 'm', 'n', 'o', 'p', 'q', 'r', 's', 't', 'u', 'v', 'w', 'x', 'y', 'z']"
   ]
  },
  {
   "cell_type": "code",
   "execution_count": 113,
   "metadata": {},
   "outputs": [],
   "source": [
    "nearestKeys={'q':('w','s','a','e','d','x','z'),\n",
    "   'w':('q','a','s','e','d','x','z'),\n",
    "   'e':('w','s','d','f','r'),\n",
    "   'r':('e','d','f','g','t'),\n",
    "   't':('r','f','g','h','y'),\n",
    "   'y':('t','g','h','j','u'),\n",
    "   'u':('y','h','j','k','i'),\n",
    "   'i':('u','j','k','l','o'),\n",
    "   'o':('i','k','l','p'),\n",
    "   'a':('s','q','w','z','x'),\n",
    "   's':('a','d','w','e','z','x'),\n",
    "   'd':('s','f','e','r','x','c'),\n",
    "   'f':('d','r','t','g','c','v'),\n",
    "   'g':('f','h','t','y','v','b'),\n",
    "   'h':('g','j','y','u','b','n'),\n",
    "   'j':('h','k','u','i','n','m'),\n",
    "   'k':('j','l','i','o','m'),\n",
    "   'l':('k','o','p'),\n",
    "   'z':('x','s','a','d'),\n",
    "   'x':('z','c','s','d'),\n",
    "   'c':('x','v','d','f'),\n",
    "   'v':('c','b','f','g'),\n",
    "   'b':('v','n','g','h'),\n",
    "   'n':('b','m','h','j'),\n",
    "   'm':('n','j','k')}"
   ]
  },
  {
   "cell_type": "code",
   "execution_count": 124,
   "metadata": {},
   "outputs": [],
   "source": [
    "def smartReplace(word):\n",
    "    flag=True #the wrong word was there\n",
    "    for j in range(2,len(word)+1):\n",
    "        for k in nearestKeys[word[j-1]]:\n",
    "            #print(i[0:j-1]+k+i[j:len(i)])\n",
    "            if word[0:j-1]+k+word[j:len(word)] in dict_list:\n",
    "                flag=False #the correct word was found\n",
    "                return word[0:j-1]+k+word[j:len(word)],flag\n",
    "    return word,flag"
   ]
  },
  {
   "cell_type": "code",
   "execution_count": 115,
   "metadata": {},
   "outputs": [],
   "source": [
    "def replace(word):\n",
    "    flag=True #the wrong word was there\n",
    "    for j in range(2,len(word)+1):\n",
    "        for k in alphabets:\n",
    "            #print(i[0:j-1]+k+i[j:len(i)])\n",
    "            if word[0:j-1]+k+word[j:len(word)] in dict_list:\n",
    "                flag=False #the correct word was found\n",
    "                return word[0:j-1]+k+word[j:len(word)],flag\n",
    "    return word,flag"
   ]
  },
  {
   "cell_type": "code",
   "execution_count": 116,
   "metadata": {},
   "outputs": [],
   "source": [
    "def extraChar(word):\n",
    "    flag=True\n",
    "    i=word\n",
    "    for j in range(1,len(i)+1):        #appple\n",
    "        frac=i[0:j-1]+i[j:len(i)]\n",
    "        #frac_replace=replace(frac)\n",
    "        #print(frac,frac_replace,frac_replace in dict_list)\n",
    "        if frac in dict_list:\n",
    "            flag=False\n",
    "            return frac,flag\n",
    "    return word,flag"
   ]
  },
  {
   "cell_type": "code",
   "execution_count": 117,
   "metadata": {},
   "outputs": [],
   "source": [
    "def extraCharReplace(word):\n",
    "    flag=True\n",
    "    i=word\n",
    "    for j in range(1,len(i)+1):         #apppXe\n",
    "        frac=i[0:j-1]+i[j:len(i)]\n",
    "        frac_replace=replace(frac)\n",
    "        if frac_replace in dict_list:\n",
    "            flag=False\n",
    "            return frac_replace,flag\n",
    "    return word,flag"
   ]
  },
  {
   "cell_type": "code",
   "execution_count": 118,
   "metadata": {},
   "outputs": [],
   "source": [
    "def addChar(word):\n",
    "    flag=True\n",
    "    i=word\n",
    "    for j in range(1,len(i)+1):        #aple\n",
    "        for k in alphabets:\n",
    "            #print(i[0:j-1]+k+i[j:len(i)])\n",
    "            if i[0:j]+k+i[j:len(i)] in dict_list:\n",
    "                flag=False\n",
    "                return i[0:j]+k+i[j:len(i)],flag\n",
    "    return word,flag"
   ]
  },
  {
   "cell_type": "code",
   "execution_count": 144,
   "metadata": {},
   "outputs": [],
   "source": [
    "def ingChecker(word):\n",
    "    if word[-3:]=='ing':\n",
    "        return word[:-3],True\n",
    "    else:\n",
    "        return word,False"
   ]
  },
  {
   "cell_type": "code",
   "execution_count": 145,
   "metadata": {},
   "outputs": [],
   "source": [
    "def autocorrect(sentence):\n",
    "    sentence_lst=sentence.split()\n",
    "    auto_correct=\"\"\n",
    "    for i in sentence_lst:\n",
    "        flag=True\n",
    "        ingFlag=False\n",
    "        i,ingFlag=ingChecker(i)\n",
    "        if i not in dict_list:\n",
    "            \n",
    "            if flag:\n",
    "                CWord,flag=smartReplace(i)            #(smart)apXle-->apple\n",
    "                if not flag:\n",
    "                    auto_correct+=\" \"\n",
    "                    auto_correct+=CWord\n",
    "                    if ingFlag:\n",
    "                        auto_correct+=\"ing\"\n",
    "            \n",
    "#             if flag:\n",
    "#                 CWord,flag=replace(i)            #apXle-->apple\n",
    "#                 if not flag:\n",
    "#                     auto_correct+=\" \"\n",
    "#                     auto_correct+=CWord\n",
    "#                     if ingFlag:\n",
    "#                         auto_correct+=\"ing\"\n",
    "            \n",
    "            if flag:\n",
    "                CWord,flag=extraChar(i)            #appple-->apple\n",
    "                if not flag:\n",
    "                    auto_correct+=\" \"\n",
    "                    auto_correct+=CWord\n",
    "                    if ingFlag:\n",
    "                        auto_correct+=\"ing\"\n",
    "            \n",
    "            if flag:\n",
    "                CWord,flag=extraCharReplace(i)   #apppXe-->apple\n",
    "                if not flag:\n",
    "                    auto_correct+=\" \"\n",
    "                    auto_correct+=CWord\n",
    "                    if ingFlag:\n",
    "                        auto_correct+=\"ing\"\n",
    "                        \n",
    "            if flag:\n",
    "                CWord,flag=addChar(i)   #appe-->apple\n",
    "                if not flag:\n",
    "                    auto_correct+=\" \"\n",
    "                    auto_correct+=CWord\n",
    "                    if ingFlag:\n",
    "                        auto_correct+=\"ing\"\n",
    "            \n",
    "            if flag:\n",
    "                auto_correct+=\" \"\n",
    "                auto_correct+=i\n",
    "                if ingFlag:\n",
    "                    auto_correct+=\"ing\"\n",
    "        \n",
    "        else:\n",
    "            auto_correct+=\" \"\n",
    "            auto_correct+=i\n",
    "            if ingFlag:\n",
    "                auto_correct+=\"ing\"\n",
    "    \n",
    "    return auto_correct"
   ]
  },
  {
   "cell_type": "code",
   "execution_count": 153,
   "metadata": {},
   "outputs": [
    {
     "data": {
      "text/plain": [
       "' I am reading calendar'"
      ]
     },
     "execution_count": 153,
     "metadata": {},
     "output_type": "execute_result"
    }
   ],
   "source": [
    "autocorrect(\"I am resding calrndar\")"
   ]
  },
  {
   "cell_type": "code",
   "execution_count": 141,
   "metadata": {},
   "outputs": [],
   "source": [
    "a='reading'"
   ]
  },
  {
   "cell_type": "code",
   "execution_count": 142,
   "metadata": {},
   "outputs": [
    {
     "data": {
      "text/plain": [
       "True"
      ]
     },
     "execution_count": 142,
     "metadata": {},
     "output_type": "execute_result"
    }
   ],
   "source": [
    "a[-3:]=='ing'"
   ]
  },
  {
   "cell_type": "code",
   "execution_count": 143,
   "metadata": {},
   "outputs": [
    {
     "data": {
      "text/plain": [
       "'read'"
      ]
     },
     "execution_count": 143,
     "metadata": {},
     "output_type": "execute_result"
    }
   ],
   "source": [
    "a[:-3]"
   ]
  },
  {
   "cell_type": "code",
   "execution_count": null,
   "metadata": {},
   "outputs": [],
   "source": []
  }
 ],
 "metadata": {
  "kernelspec": {
   "display_name": "Python 3",
   "language": "python",
   "name": "python3"
  },
  "language_info": {
   "codemirror_mode": {
    "name": "ipython",
    "version": 3
   },
   "file_extension": ".py",
   "mimetype": "text/x-python",
   "name": "python",
   "nbconvert_exporter": "python",
   "pygments_lexer": "ipython3",
   "version": "3.6.8"
  }
 },
 "nbformat": 4,
 "nbformat_minor": 4
}
