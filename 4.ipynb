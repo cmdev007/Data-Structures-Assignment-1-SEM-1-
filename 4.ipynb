{
 "cells": [
  {
   "cell_type": "code",
   "execution_count": 1,
   "metadata": {},
   "outputs": [],
   "source": [
    "from itertools import combinations \n",
    "from copy import deepcopy\n",
    "from numpy import prod"
   ]
  },
  {
   "cell_type": "code",
   "execution_count": 2,
   "metadata": {},
   "outputs": [],
   "source": [
    "answer=[]"
   ]
  },
  {
   "cell_type": "code",
   "execution_count": 3,
   "metadata": {},
   "outputs": [],
   "source": [
    "def PairChecker(lst):\n",
    "    ans=[]\n",
    "    target=max(lst)\n",
    "    for i in range(len(lst)):\n",
    "        for j in range(len(lst)):\n",
    "            if j>i:\n",
    "                if lst[i]*lst[j]==target:\n",
    "                    ans.append([lst[i],lst[j]])\n",
    "    return ans"
   ]
  },
  {
   "cell_type": "code",
   "execution_count": 4,
   "metadata": {},
   "outputs": [],
   "source": [
    "def Factors(num):\n",
    "    ans=[]\n",
    "    for i in range(1, num+1):\n",
    "        if num%i==0:\n",
    "            ans.append(i)\n",
    "    return PairChecker(ans)"
   ]
  },
  {
   "cell_type": "code",
   "execution_count": 5,
   "metadata": {},
   "outputs": [],
   "source": [
    "def mulsolution(que,target):\n",
    "    pairs=Factors(target)\n",
    "    for i in range(len(pairs)):\n",
    "        if (pairs[i][0] in que) & (pairs[i][1] in que):\n",
    "            answer.append(\"%d * %d\" %(pairs[i][0],pairs[i][1])) "
   ]
  },
  {
   "cell_type": "code",
   "execution_count": 6,
   "metadata": {},
   "outputs": [],
   "source": [
    "def sumsolution(que1,target):\n",
    "    que=deepcopy(que1)\n",
    "    for i in range(len(que)):\n",
    "        que.append(-que[i])\n",
    "    #print(que)\n",
    "    comb=[]\n",
    "    for i in range(2,len(que)+1):\n",
    "        for j in combinations(que,i):\n",
    "            comb.append(j)\n",
    "    #print(comb)\n",
    "    for i in range(len(comb)):\n",
    "        if sum(comb[i])==target:\n",
    "            lst=comb[i]\n",
    "            #print(lst)\n",
    "            ans=\"\"\n",
    "            for k in range(len(lst)):\n",
    "                if (ans!=\"\"):\n",
    "                    if lst[k]>=0:\n",
    "                        ans=ans+\"+\"\n",
    "                        ans=ans+str(lst[k])\n",
    "                    else:\n",
    "                        ans=ans+\"-\"\n",
    "                        ans=ans+str(-lst[k])\n",
    "                else:\n",
    "                    ans=ans+str(lst[k])\n",
    "            answer.append(ans)\n",
    "            break"
   ]
  },
  {
   "cell_type": "code",
   "execution_count": 32,
   "metadata": {},
   "outputs": [],
   "source": [
    "def mulsolution(que1,target):\n",
    "    que=deepcopy(que1)\n",
    "    for i in range(len(que)):\n",
    "        que.append(1/que[i])\n",
    "    comb=[]\n",
    "    for i in range(2,len(que)+1):\n",
    "        for j in combinations(que,i):\n",
    "            comb.append(j)\n",
    "    #print(comb)\n",
    "    for i in range(len(comb)):\n",
    "        if prod(comb[i])==target:\n",
    "            lst=comb[i]\n",
    "            #print(lst)\n",
    "            ans=\"\"\n",
    "            for k in range(len(lst)):\n",
    "                if (ans!=\"\"):\n",
    "                    ans=ans+\"*\"\n",
    "                    ans=ans+str(lst[k])\n",
    "                else:\n",
    "                    ans=ans+str(lst[k])\n",
    "            answer.append(ans)\n",
    "            break"
   ]
  },
  {
   "cell_type": "code",
   "execution_count": 33,
   "metadata": {},
   "outputs": [],
   "source": [
    "def mulsumsolution(que,target):\n",
    "    comb=[]\n",
    "    pairs=Factors(target)\n",
    "    for i in range(1,len(que)+1):\n",
    "        for j in combinations(que,i):\n",
    "            comb.append(j)\n",
    "    for i in range(len(pairs)):\n",
    "        SUM1=pair[i][0]\n",
    "        SUM2=pair[i][1]\n",
    "        for j in range(len(comb)):\n",
    "            if sum(comb[i])==SUM1:\n",
    "                if (SUM2 not in comb[i]):\n",
    "                    lst=comb[i]\n",
    "                    #print(lst)\n",
    "                    ans=\"\"\n",
    "                    for k in range(len(lst)):\n",
    "                        if (ans!=\"\"):\n",
    "                            if lst[k]>=0:\n",
    "                                ans=ans+\"+\"\n",
    "                                ans=ans+str(lst[k])\n",
    "                            else:\n",
    "                                ans=ans+\"-\"\n",
    "                                ans=ans+str(-lst[k])\n",
    "                        else:\n",
    "                            ans=ans+str(lst[k])\n",
    "                    answer.append()"
   ]
  },
  {
   "cell_type": "code",
   "execution_count": 52,
   "metadata": {},
   "outputs": [],
   "source": [
    "question=[78,1,4,66,9,88]"
   ]
  },
  {
   "cell_type": "code",
   "execution_count": 53,
   "metadata": {},
   "outputs": [
    {
     "name": "stdout",
     "output_type": "stream",
     "text": [
      "['78+1-78']\n"
     ]
    }
   ],
   "source": [
    "answer=[]\n",
    "sumsolution(question,1)\n",
    "print(answer)"
   ]
  },
  {
   "cell_type": "code",
   "execution_count": 47,
   "metadata": {},
   "outputs": [
    {
     "data": {
      "text/plain": [
       "1.0"
      ]
     },
     "execution_count": 47,
     "metadata": {},
     "output_type": "execute_result"
    }
   ],
   "source": [
    "prod((2,2,1/4))"
   ]
  },
  {
   "cell_type": "code",
   "execution_count": null,
   "metadata": {},
   "outputs": [],
   "source": []
  }
 ],
 "metadata": {
  "kernelspec": {
   "display_name": "Python 3",
   "language": "python",
   "name": "python3"
  },
  "language_info": {
   "codemirror_mode": {
    "name": "ipython",
    "version": 3
   },
   "file_extension": ".py",
   "mimetype": "text/x-python",
   "name": "python",
   "nbconvert_exporter": "python",
   "pygments_lexer": "ipython3",
   "version": "3.6.8"
  }
 },
 "nbformat": 4,
 "nbformat_minor": 4
}
