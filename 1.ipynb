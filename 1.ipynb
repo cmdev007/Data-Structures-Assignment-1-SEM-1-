{
 "cells": [
  {
   "cell_type": "code",
   "execution_count": 1,
   "metadata": {},
   "outputs": [],
   "source": [
    "from random import randrange"
   ]
  },
  {
   "cell_type": "code",
   "execution_count": 8,
   "metadata": {},
   "outputs": [
    {
     "name": "stdout",
     "output_type": "stream",
     "text": [
      "Initial number is:  4\n",
      "Iterative number is:  8\n",
      "Number after  1  iterations is  -4\n",
      "Iterative number is:  -5\n",
      "Number after  2  iterations is  1\n",
      "Iterative number is:  6\n",
      "Number after  3  iterations is  -5\n",
      "Iterative number is:  7\n",
      "Number after  4  iterations is  2\n",
      "Iterative number is:  6\n",
      "Number after  5  iterations is  -4\n",
      "Iterative number is:  -9\n",
      "Number after  6  iterations is  5\n",
      "Iterative number is:  -7\n",
      "Number after  7  iterations is  -2\n",
      "Iterative number is:  -2\n",
      "Number after  8  iterations is  0\n",
      "Hurray!!! Achieved number = 0.\n"
     ]
    }
   ],
   "source": [
    "num=randrange(1,10,1)\n",
    "print(\"Initial number is: \",num)\n",
    "counter=1\n",
    "while(True):\n",
    "    #We will try to achieve num=0 and then break the loop\n",
    "    if (num==0):\n",
    "        print(\"Hurray!!! Achieved number = 0.\")\n",
    "        break\n",
    "    elif (num>0):\n",
    "        gen=randrange(-10,10,1)\n",
    "        print(\"Iterative number is: \",gen)\n",
    "        if (gen<0):\n",
    "            num=num+gen\n",
    "            print(\"Number after \",counter,\" iterations is \",num)\n",
    "            counter=counter+1\n",
    "        elif (gen==0):\n",
    "            num=num*gen\n",
    "            print(\"Number after \",counter,\" iterations is \",num)\n",
    "            counter=counter+1\n",
    "        else:\n",
    "            num=num-gen\n",
    "            print(\"Number after \",counter,\" iterations is \",num)\n",
    "            counter=counter+1\n",
    "    else:\n",
    "        gen=randrange(-10,10,1)\n",
    "        print(\"Iterative number is: \",gen)\n",
    "        if (gen<0):\n",
    "            num=num-gen\n",
    "            print(\"Number after \",counter,\" iterations is \",num)\n",
    "            counter=counter+1\n",
    "        elif (gen==0):\n",
    "            num=num*gen\n",
    "            print(\"Number after \",counter,\" iterations is \",num)\n",
    "            counter=counter+1\n",
    "        else:\n",
    "            num=num+gen\n",
    "            print(\"Number after \",counter,\" iterations is \",num)\n",
    "            counter=counter+1"
   ]
  },
  {
   "cell_type": "code",
   "execution_count": null,
   "metadata": {},
   "outputs": [],
   "source": []
  }
 ],
 "metadata": {
  "kernelspec": {
   "display_name": "Python 3",
   "language": "python",
   "name": "python3"
  },
  "language_info": {
   "codemirror_mode": {
    "name": "ipython",
    "version": 3
   },
   "file_extension": ".py",
   "mimetype": "text/x-python",
   "name": "python",
   "nbconvert_exporter": "python",
   "pygments_lexer": "ipython3",
   "version": "3.6.11"
  }
 },
 "nbformat": 4,
 "nbformat_minor": 4
}
