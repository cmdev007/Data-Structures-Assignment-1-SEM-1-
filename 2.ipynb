{
 "cells": [
  {
   "cell_type": "code",
   "execution_count": 1,
   "metadata": {},
   "outputs": [],
   "source": [
    "import itertools\n",
    "import random\n",
    "from copy import deepcopy"
   ]
  },
  {
   "cell_type": "code",
   "execution_count": 2,
   "metadata": {},
   "outputs": [],
   "source": [
    "def mixture(B):\n",
    "    flag=1 #1 means there is some coomon part\n",
    "    if (len(B[0])==len(B[1])):\n",
    "        C=B[0]\n",
    "        D=B[1]\n",
    "    else:\n",
    "        C=min(B,key=len)\n",
    "        D=max(B,key=len)\n",
    "    for i in range(len(C)):\n",
    "        if (i==0):\n",
    "            if(D.rfind(C)!=-1):\n",
    "                #print(\"whole word is in parent string.\")\n",
    "                return D,flag\n",
    "                break\n",
    "        else:\n",
    "            if(D.rfind(C[i:],0,len(C[i:]))!=-1):\n",
    "                #print(\"there's a part at start.\", C[i:])\n",
    "                return C[:i]+D,flag\n",
    "                break\n",
    "            elif(D.rfind(C[:(len(C)-i)],len(D)-len(C[:(len(C)-i)]),len(D))!=-1):\n",
    "                #print(\"there's a part at end.\", C[:(len(C)-i)], D.rfind(C[:(len(C)-i)],(len(D)-len(C[:(len(C)-i)]),len(D))!=-1))\n",
    "                return D+C[(len(C)-i):],flag\n",
    "                break\n",
    "            elif(i==len(C)-1):\n",
    "                flag=0\n",
    "                return C+D,flag\n",
    "        "
   ]
  },
  {
   "cell_type": "code",
   "execution_count": 3,
   "metadata": {},
   "outputs": [],
   "source": [
    "def subsolution(B):\n",
    "    A=deepcopy(B)\n",
    "    answer=\"\"\n",
    "    all_combinations = []\n",
    "    for r in range(len(A) + 1):\n",
    "        combinations_object = itertools.combinations(A, r)\n",
    "        combinations_list = list(combinations_object)\n",
    "        all_combinations += combinations_list\n",
    "    for k in range(len(all_combinations)):\n",
    "        for i in range(len(A)):\n",
    "            for j in range(len(A)-1-i):\n",
    "                pair=(A[i],A[j+1+i])\n",
    "                x,flag=mixture(pair)\n",
    "                if (flag):\n",
    "                    one=A[i]\n",
    "                    two=A[j+1+i]\n",
    "                    A.remove(one)\n",
    "                    A.remove(two)\n",
    "                    A.append(x)\n",
    "                    break\n",
    "    for entity in A:\n",
    "        answer=answer+entity\n",
    "    return answer"
   ]
  },
  {
   "cell_type": "code",
   "execution_count": 4,
   "metadata": {},
   "outputs": [],
   "source": [
    "def solution(B):\n",
    "    A=deepcopy(B)\n",
    "    answer=[]\n",
    "    all_combinations = []\n",
    "    for r in range(len(A) + 1):\n",
    "        combinations_object = itertools.combinations(A, r)\n",
    "        combinations_list = list(combinations_object)\n",
    "        all_combinations += combinations_list\n",
    "    for k in range(len(all_combinations)):\n",
    "        random.shuffle(A)\n",
    "        answer.append(subsolution(A))\n",
    "    return min(answer,key=len)"
   ]
  },
  {
   "cell_type": "code",
   "execution_count": 5,
   "metadata": {},
   "outputs": [
    {
     "name": "stdout",
     "output_type": "stream",
     "text": [
      "Please enter the word/press q for quit: \n"
     ]
    },
    {
     "name": "stdin",
     "output_type": "stream",
     "text": [
      " MORNINGSTAR\n"
     ]
    },
    {
     "name": "stdout",
     "output_type": "stream",
     "text": [
      "Please enter the word/press q for quit: \n"
     ]
    },
    {
     "name": "stdin",
     "output_type": "stream",
     "text": [
      " STARFISH\n"
     ]
    },
    {
     "name": "stdout",
     "output_type": "stream",
     "text": [
      "Please enter the word/press q for quit: \n"
     ]
    },
    {
     "name": "stdin",
     "output_type": "stream",
     "text": [
      " q\n"
     ]
    },
    {
     "name": "stdout",
     "output_type": "stream",
     "text": [
      "The shortest string:  MORNINGSTARFISH\n"
     ]
    }
   ],
   "source": [
    "counter=0\n",
    "question=[]\n",
    "while(1):\n",
    "    print(\"Please enter the word/press q for quit: \")\n",
    "    sub=input()\n",
    "    sub=str(sub)\n",
    "    if (sub==\"q\"):\n",
    "        if(counter==0):\n",
    "            print(\"Atleast enter one word for gods sake!\")\n",
    "        else:\n",
    "            break\n",
    "    else:\n",
    "        question.append(sub)\n",
    "        counter=counter+1\n",
    "answer=solution(question)\n",
    "print(\"The shortest string: \", answer)"
   ]
  },
  {
   "cell_type": "code",
   "execution_count": null,
   "metadata": {},
   "outputs": [],
   "source": []
  }
 ],
 "metadata": {
  "kernelspec": {
   "display_name": "Python 3",
   "language": "python",
   "name": "python3"
  },
  "language_info": {
   "codemirror_mode": {
    "name": "ipython",
    "version": 3
   },
   "file_extension": ".py",
   "mimetype": "text/x-python",
   "name": "python",
   "nbconvert_exporter": "python",
   "pygments_lexer": "ipython3",
   "version": "3.6.11"
  }
 },
 "nbformat": 4,
 "nbformat_minor": 4
}
