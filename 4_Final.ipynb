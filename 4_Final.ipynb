{
 "cells": [
  {
   "cell_type": "code",
   "execution_count": 9,
   "metadata": {},
   "outputs": [],
   "source": [
    "import itertools"
   ]
  },
  {
   "cell_type": "code",
   "execution_count": 10,
   "metadata": {},
   "outputs": [],
   "source": [
    "def two_combo(lst,val):\n",
    "    comb=[]\n",
    "    ans=\"\"\n",
    "    for i in itertools.permutations(que,2):\n",
    "        comb.append(i)\n",
    "    flag=True #this will turn False if i have found the expression\n",
    "    for i in comb:\n",
    "        if flag:\n",
    "            for j in ops:\n",
    "                if eval(str(i[0])+j+str(i[1]))==target:\n",
    "                    ans=ans+\"The expression is: \"+str(i[0])+j+str(i[1])\n",
    "                    flag=False\n",
    "    return ans,flag"
   ]
  },
  {
   "cell_type": "code",
   "execution_count": 3,
   "metadata": {},
   "outputs": [],
   "source": [
    "def three_combo(lst,val):\n",
    "    comb=[]\n",
    "    ans=\"\"\n",
    "    for i in itertools.permutations(que,3):\n",
    "        comb.append(i)\n",
    "    flag=True\n",
    "    for i in comb:\n",
    "        if flag:\n",
    "            for j in ops:\n",
    "                for k in ops:\n",
    "                    if eval(str(i[0])+j+str(i[1])+k+str(i[2]))==target:\n",
    "                        ans=ans+\"The expression is: \"+str(i[0])+j+str(i[1])+k+str(i[2])\n",
    "                        flag=False\n",
    "    return ans,flag"
   ]
  },
  {
   "cell_type": "code",
   "execution_count": 4,
   "metadata": {},
   "outputs": [],
   "source": [
    "def four_combo(lst,val):\n",
    "    comb=[]\n",
    "    ans=\"\"\n",
    "    for i in itertools.permutations(que,4):\n",
    "        comb.append(i)\n",
    "    flag=True\n",
    "    for i in comb:\n",
    "        if flag:\n",
    "            for j in ops:\n",
    "                for k in ops:\n",
    "                    for l in ops:\n",
    "                        if eval(str(i[0])+j+str(i[1])+k+str(i[2])+l+str(i[3]))==target:\n",
    "                            ans=ans+\"The expression is: \"+str(i[0])+j+str(i[1])+k+str(i[2])+l+str(i[3])\n",
    "                            flag=False\n",
    "    return ans,flag"
   ]
  },
  {
   "cell_type": "code",
   "execution_count": 5,
   "metadata": {},
   "outputs": [],
   "source": [
    "def five_combo(lst,val):\n",
    "    comb=[]\n",
    "    ans=\"\"\n",
    "    for i in itertools.permutations(que,5):\n",
    "        comb.append(i)\n",
    "    flag=True\n",
    "    for i in comb:\n",
    "        if flag:\n",
    "            for j in ops:\n",
    "                for k in ops:\n",
    "                    for l in ops:\n",
    "                        for m in ops:\n",
    "                            if eval(str(i[0])+j+str(i[1])+k+str(i[2])+l+str(i[3])+m+str(i[4]))==target:\n",
    "                                ans=ans+\"The expression is: \"+str(i[0])+j+str(i[1])+k+str(i[2])+l+str(i[3])+m+str(i[4])\n",
    "                                flag=False\n",
    "    return ans,flag"
   ]
  },
  {
   "cell_type": "code",
   "execution_count": 6,
   "metadata": {},
   "outputs": [],
   "source": [
    "def six_combo(lst,val):\n",
    "    comb=[]\n",
    "    ans=\"\"\n",
    "    for i in itertools.permutations(que,6):\n",
    "        comb.append(i)\n",
    "    flag=True\n",
    "    for i in comb:\n",
    "        if flag:\n",
    "            for j in ops:\n",
    "                for k in ops:\n",
    "                    for l in ops:\n",
    "                        for m in ops:\n",
    "                            for n in ops:\n",
    "                                if eval(str(i[0])+j+str(i[1])+k+str(i[2])+l+str(i[3])+m+str(i[4])+n+str(i[5]))==target:\n",
    "                                    ans=ans+\"The expression is: \"+str(i[0])+j+str(i[1])+k+str(i[2])+l+str(i[3])+m+str(i[4])+n+str(i[5])\n",
    "                                    flag=False\n",
    "    return ans,flag"
   ]
  },
  {
   "cell_type": "code",
   "execution_count": 12,
   "metadata": {},
   "outputs": [],
   "source": [
    "que=[55,46,16,7,76,90]\n",
    "target=120\n",
    "ops = ['+', '-', '*', '/']"
   ]
  },
  {
   "cell_type": "code",
   "execution_count": 13,
   "metadata": {},
   "outputs": [
    {
     "name": "stdout",
     "output_type": "stream",
     "text": [
      "The expression is: 46-16+90\n"
     ]
    }
   ],
   "source": [
    "globalflag=True\n",
    "while(1):\n",
    "    answer,globalflag=two_combo(que,target)\n",
    "    if not globalflag:\n",
    "        print(answer)\n",
    "        break\n",
    "    answer,globalflag=three_combo(que,target)\n",
    "    if not globalflag:\n",
    "        print(answer)\n",
    "        break\n",
    "    answer,globalflag=four_combo(que,target)\n",
    "    if not globalflag:\n",
    "        print(answer)\n",
    "        break\n",
    "    answer,globalflag=five_combo(que,target)\n",
    "    if not globalflag:\n",
    "        print(answer)\n",
    "        break\n",
    "    answer,globalflag=six_combo(que,target)\n",
    "    if not globalflag:\n",
    "        print(answer)\n",
    "        break\n",
    "    if globalflag:\n",
    "        print(\"No arithmetic expression possible for given target value!\")\n",
    "        break"
   ]
  },
  {
   "cell_type": "code",
   "execution_count": null,
   "metadata": {},
   "outputs": [],
   "source": []
  }
 ],
 "metadata": {
  "kernelspec": {
   "display_name": "Python 3",
   "language": "python",
   "name": "python3"
  },
  "language_info": {
   "codemirror_mode": {
    "name": "ipython",
    "version": 3
   },
   "file_extension": ".py",
   "mimetype": "text/x-python",
   "name": "python",
   "nbconvert_exporter": "python",
   "pygments_lexer": "ipython3",
   "version": "3.6.11"
  }
 },
 "nbformat": 4,
 "nbformat_minor": 4
}
