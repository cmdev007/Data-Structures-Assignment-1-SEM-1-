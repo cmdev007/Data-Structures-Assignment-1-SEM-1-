{
 "cells": [
  {
   "cell_type": "code",
   "execution_count": 43,
   "metadata": {},
   "outputs": [],
   "source": [
    "import pandas as pd\n",
    "import numpy as np\n",
    "from english_words import english_words_set as dict_list"
   ]
  },
  {
   "cell_type": "code",
   "execution_count": 46,
   "metadata": {},
   "outputs": [],
   "source": [
    "dict_list=dict_list.union({'I','was','were','is','am','has','preet','farzan','bat','blink','dhruti','eating'})"
   ]
  },
  {
   "cell_type": "code",
   "execution_count": 47,
   "metadata": {},
   "outputs": [
    {
     "data": {
      "text/plain": [
       "25492"
      ]
     },
     "execution_count": 47,
     "metadata": {},
     "output_type": "execute_result"
    }
   ],
   "source": [
    "len(dict_list)"
   ]
  },
  {
   "cell_type": "code",
   "execution_count": 2,
   "metadata": {},
   "outputs": [],
   "source": [
    "#dict_frame=pd.read_csv(\"dictionary.csv\")"
   ]
  },
  {
   "cell_type": "code",
   "execution_count": 3,
   "metadata": {},
   "outputs": [],
   "source": [
    "#dict_array=dict_frame['header'].to_numpy()"
   ]
  },
  {
   "cell_type": "code",
   "execution_count": 11,
   "metadata": {},
   "outputs": [],
   "source": [
    "#dict_list=list(dict_array)\n",
    "#addons=['was','were','is','am','has','preet','farzan','bat','blink','dhruti','eating']\n",
    "#dict_list.extend(addons)"
   ]
  },
  {
   "cell_type": "code",
   "execution_count": 27,
   "metadata": {},
   "outputs": [],
   "source": [
    "alphabets=['a', 'b', 'c', 'd', 'e', 'f', 'g', 'h', 'i', 'j', 'k', 'l', 'm', 'n', 'o', 'p', 'q', 'r', 's', 't', 'u', 'v', 'w', 'x', 'y', 'z']"
   ]
  },
  {
   "cell_type": "code",
   "execution_count": 13,
   "metadata": {},
   "outputs": [],
   "source": [
    "def replace(word):\n",
    "    auto_correct=\"\"\n",
    "    flag=True #the wrong word was there\n",
    "    for j in range(2,len(word)+1):\n",
    "        for k in alphabets:\n",
    "            #print(i[0:j-1]+k+i[j:len(i)])\n",
    "            if word[0:j-1]+k+word[j:len(word)] in dict_list:\n",
    "                auto_correct+=word[0:j-1]+k+word[j:len(word)]\n",
    "                flag=False #the correct word was found\n",
    "                return word[0:j-1]+k+word[j:len(word)],flag\n",
    "    return word,flag"
   ]
  },
  {
   "cell_type": "code",
   "execution_count": 54,
   "metadata": {},
   "outputs": [],
   "source": [
    "def extraChar(word):\n",
    "    flag=True\n",
    "    i=word\n",
    "    for j in range(1,len(i)+1):        #appple\n",
    "        frac=i[0:j-1]+i[j:len(i)]\n",
    "        #frac_replace=replace(frac)\n",
    "        #print(frac,frac_replace,frac_replace in dict_list)\n",
    "        if frac in dict_list:\n",
    "            flag=False\n",
    "            return frac,flag\n",
    "    return word,flag"
   ]
  },
  {
   "cell_type": "code",
   "execution_count": 15,
   "metadata": {},
   "outputs": [],
   "source": [
    "def extraCharReplace(word):\n",
    "    flag=True\n",
    "    i=word\n",
    "    for j in range(1,len(i)+1):         #apppXe\n",
    "        frac=i[0:j-1]+i[j:len(i)]\n",
    "        frac_replace=replace(frac)\n",
    "        if frac_replace in dict_list:\n",
    "            flag=False\n",
    "            return frac_replace,flag\n",
    "    return word,flag"
   ]
  },
  {
   "cell_type": "code",
   "execution_count": 20,
   "metadata": {},
   "outputs": [],
   "source": [
    "def addChar(word):\n",
    "    flag=True\n",
    "    i=word\n",
    "    for j in range(1,len(i)+1):        #aple\n",
    "        for k in alphabets:\n",
    "            #print(i[0:j-1]+k+i[j:len(i)])\n",
    "            if i[0:j]+k+i[j:len(i)] in dict_list:\n",
    "                flag=False\n",
    "                return i[0:j]+k+i[j:len(i)],flag\n",
    "    return word,flag"
   ]
  },
  {
   "cell_type": "code",
   "execution_count": 59,
   "metadata": {},
   "outputs": [],
   "source": [
    "def autocorrect(sentence):\n",
    "    sentence_lst=sentence.split()\n",
    "    auto_correct=\"\"\n",
    "    for i in sentence_lst:\n",
    "        flag=True\n",
    "        if i not in dict_list:\n",
    "            if flag:\n",
    "                CWord,flag=replace(i)            #apXle-->apple\n",
    "                if not flag:\n",
    "                    auto_correct+=\" \"\n",
    "                    auto_correct+=CWord\n",
    "            \n",
    "            if flag:\n",
    "                CWord,flag=extraChar(i)            #appple-->apple\n",
    "                if not flag:\n",
    "                    auto_correct+=\" \"\n",
    "                    auto_correct+=CWord\n",
    "            \n",
    "            if flag:\n",
    "                CWord,flag=extraCharReplace(i)   #apppXe-->apple\n",
    "                if not flag:\n",
    "                    auto_correct+=\" \"\n",
    "                    auto_correct+=CWord\n",
    "                        \n",
    "                        \n",
    "            if flag:\n",
    "                CWord,flag=addChar(i)   #appe-->apple\n",
    "                if not flag:\n",
    "                    auto_correct+=\" \"\n",
    "                    auto_correct+=CWord\n",
    "            if flag:\n",
    "                auto_correct+=\" \"\n",
    "                auto_correct+=i\n",
    "        else:\n",
    "            auto_correct+=\" \"\n",
    "            auto_correct+=i\n",
    "    return auto_correct"
   ]
  },
  {
   "cell_type": "code",
   "execution_count": 65,
   "metadata": {},
   "outputs": [
    {
     "data": {
      "text/plain": [
       "' I am resding colander'"
      ]
     },
     "execution_count": 65,
     "metadata": {},
     "output_type": "execute_result"
    }
   ],
   "source": [
    "autocorrect(\"I am resding calander\")"
   ]
  },
  {
   "cell_type": "code",
   "execution_count": 67,
   "metadata": {},
   "outputs": [
    {
     "data": {
      "text/plain": [
       "False"
      ]
     },
     "execution_count": 67,
     "metadata": {},
     "output_type": "execute_result"
    }
   ],
   "source": [
    "'reading' in dict_list"
   ]
  },
  {
   "cell_type": "code",
   "execution_count": 58,
   "metadata": {},
   "outputs": [
    {
     "data": {
      "text/plain": [
       "('eating', False)"
      ]
     },
     "execution_count": 58,
     "metadata": {},
     "output_type": "execute_result"
    }
   ],
   "source": [
    "extraChar('eatinwg')"
   ]
  },
  {
   "cell_type": "code",
   "execution_count": 37,
   "metadata": {},
   "outputs": [],
   "source": [
    "a=a.union({3})"
   ]
  },
  {
   "cell_type": "code",
   "execution_count": 38,
   "metadata": {},
   "outputs": [
    {
     "data": {
      "text/plain": [
       "{1, 2, 3, 4}"
      ]
     },
     "execution_count": 38,
     "metadata": {},
     "output_type": "execute_result"
    }
   ],
   "source": [
    "a"
   ]
  },
  {
   "cell_type": "code",
   "execution_count": null,
   "metadata": {},
   "outputs": [],
   "source": []
  }
 ],
 "metadata": {
  "kernelspec": {
   "display_name": "Python 3",
   "language": "python",
   "name": "python3"
  },
  "language_info": {
   "codemirror_mode": {
    "name": "ipython",
    "version": 3
   },
   "file_extension": ".py",
   "mimetype": "text/x-python",
   "name": "python",
   "nbconvert_exporter": "python",
   "pygments_lexer": "ipython3",
   "version": "3.6.8"
  }
 },
 "nbformat": 4,
 "nbformat_minor": 4
}
